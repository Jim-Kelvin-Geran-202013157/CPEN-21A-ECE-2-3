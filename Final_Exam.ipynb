{
  "nbformat": 4,
  "nbformat_minor": 0,
  "metadata": {
    "colab": {
      "name": "Final Exam.ipynb",
      "provenance": [],
      "authorship_tag": "ABX9TyM3AAhsanMLaAu9LtiCgWcy",
      "include_colab_link": true
    },
    "kernelspec": {
      "name": "python3",
      "display_name": "Python 3"
    },
    "language_info": {
      "name": "python"
    }
  },
  "cells": [
    {
      "cell_type": "markdown",
      "metadata": {
        "id": "view-in-github",
        "colab_type": "text"
      },
      "source": [
        "<a href=\"https://colab.research.google.com/github/Jim-Kelvin-Geran-202013157/CPEN-21A-ECE-2-3/blob/main/Final_Exam.ipynb\" target=\"_parent\"><img src=\"https://colab.research.google.com/assets/colab-badge.svg\" alt=\"Open In Colab\"/></a>"
      ]
    },
    {
      "cell_type": "markdown",
      "source": [
        "##Final Exam"
      ],
      "metadata": {
        "id": "Red-lrcnzbHc"
      }
    },
    {
      "cell_type": "markdown",
      "source": [
        "###PROBLEM STATEMENT 1"
      ],
      "metadata": {
        "id": "BtexqQZb2GQA"
      }
    },
    {
      "cell_type": "code",
      "source": [
        "#Create a python program that will compute for the summation of 10 numbers that are less than 5\n",
        "\n",
        "sum = 0\n",
        "num=[-5,-4,-3,-2,-1,0,1,2,3,4]\n",
        "for x in num:\n",
        "    sum = sum+x\n",
        "print(\"The summation of 10 numbers that are less than 5 is: \", sum )"
      ],
      "metadata": {
        "colab": {
          "base_uri": "https://localhost:8080/"
        },
        "id": "mcPznHxX0tcR",
        "outputId": "99152add-5b4c-4cc2-a700-4339ff1db7a0"
      },
      "execution_count": 11,
      "outputs": [
        {
          "output_type": "stream",
          "name": "stdout",
          "text": [
            "The summation of 10 numbers that are less than 5 is:  -5\n"
          ]
        }
      ]
    },
    {
      "cell_type": "markdown",
      "source": [
        "###PROBLEM STATEMENT 2"
      ],
      "metadata": {
        "id": "fLbVY3Z02VGB"
      }
    },
    {
      "cell_type": "code",
      "source": [
        "#Create a Python program that will produce accept five numbers and determine the sum of first and last number among the five numbers entered using WHILE LOOP.\n",
        "\n",
        "i=1\n",
        "while i<=5:\n",
        "  print(i)\n",
        "  i+=1\n",
        "n = 12345\n",
        "num=n%10\n",
        "while n>9:\n",
        "  n=n//10\n",
        "num+=n\n",
        "print(\"The sum of 1st and last number is\",num)"
      ],
      "metadata": {
        "colab": {
          "base_uri": "https://localhost:8080/"
        },
        "id": "WVGyntcs2nTv",
        "outputId": "b9668316-3c03-49c3-cfc1-5c5ca5b69be5"
      },
      "execution_count": 14,
      "outputs": [
        {
          "output_type": "stream",
          "name": "stdout",
          "text": [
            "1\n",
            "2\n",
            "3\n",
            "4\n",
            "5\n",
            "The sum of 1st and last number is 6\n"
          ]
        }
      ]
    },
    {
      "cell_type": "markdown",
      "source": [
        "###PROBLEM STATEMENT 3"
      ],
      "metadata": {
        "id": "IBTK0AKS3Und"
      }
    },
    {
      "cell_type": "code",
      "source": [
        "#Create a Python program to calculate student grades. It accepts a numerical grade as input and it will display the character grade as output based on the given scale: (Use Nested-IF-Else statement)\n",
        "\n",
        "grade=int(input(\"Enter your grade:\"))\n",
        "if grade>=90:\n",
        "  print(\"A\")\n",
        "elif 80<=grade<90:\n",
        "  print(\"B\")\n",
        "elif 70<=grade<80:\n",
        "  print(\"C\")\n",
        "elif 60<=grade<70:\n",
        "  print(\"D\")\n",
        "else:\n",
        "  print(\"F\")"
      ],
      "metadata": {
        "colab": {
          "base_uri": "https://localhost:8080/"
        },
        "id": "NETZAjQ23Zns",
        "outputId": "afeacd69-0159-491c-b8a3-67509d456654"
      },
      "execution_count": 16,
      "outputs": [
        {
          "output_type": "stream",
          "name": "stdout",
          "text": [
            "Enter your grade:59\n",
            "F\n"
          ]
        }
      ]
    }
  ]
}