{
  "nbformat": 4,
  "nbformat_minor": 0,
  "metadata": {
    "colab": {
      "name": "Demo1.ipynb",
      "provenance": [],
      "authorship_tag": "ABX9TyO65CVZqIiXmiga8vcZ9IHF",
      "include_colab_link": true
    },
    "kernelspec": {
      "name": "python3",
      "display_name": "Python 3"
    },
    "language_info": {
      "name": "python"
    }
  },
  "cells": [
    {
      "cell_type": "markdown",
      "metadata": {
        "id": "view-in-github",
        "colab_type": "text"
      },
      "source": [
        "<a href=\"https://colab.research.google.com/github/Jim-Kelvin-Geran-202013157/CPEN-21A-ECE-2-3/blob/main/Demo1.ipynb\" target=\"_parent\"><img src=\"https://colab.research.google.com/assets/colab-badge.svg\" alt=\"Open In Colab\"/></a>"
      ]
    },
    {
      "cell_type": "markdown",
      "metadata": {
        "id": "DR9uzfyRLNOP"
      },
      "source": [
        "###Python Indentation"
      ]
    },
    {
      "cell_type": "code",
      "metadata": {
        "colab": {
          "base_uri": "https://localhost:8080/"
        },
        "id": "vy3qD-q7QOC2",
        "outputId": "dcc1b0c2-d6b0-42ea-cbf6-03e42f50dea1"
      },
      "source": [
        "if 5>2:\n",
        "  print(\"Five is greater than two!\") #This code shows a Strings of words"
      ],
      "execution_count": 1,
      "outputs": [
        {
          "output_type": "stream",
          "name": "stdout",
          "text": [
            "Five is greater than two!\n"
          ]
        }
      ]
    },
    {
      "cell_type": "markdown",
      "metadata": {
        "id": "bXq5BGKiQpR1"
      },
      "source": [
        "###Python Variable"
      ]
    },
    {
      "cell_type": "code",
      "metadata": {
        "id": "e6fIBsX2R94j",
        "colab": {
          "base_uri": "https://localhost:8080/"
        },
        "outputId": "97515c57-290a-45c0-9424-10985facf32b"
      },
      "source": [
        "a, b, c=0,1,2\n",
        "d = \"Sally\" #This is a type of string\n",
        "s = 'Mark'  #This is a type of string\n",
        "A = 'Raymond'\n",
        "print(a)\n",
        "print(b)\n",
        "print(c)\n",
        "print(d)\n",
        "print(s)\n",
        "print(A)"
      ],
      "execution_count": 2,
      "outputs": [
        {
          "output_type": "stream",
          "name": "stdout",
          "text": [
            "0\n",
            "1\n",
            "2\n",
            "Sally\n",
            "Mark\n",
            "Raymond\n"
          ]
        }
      ]
    },
    {
      "cell_type": "markdown",
      "metadata": {
        "id": "GFYimU2gVmk7"
      },
      "source": [
        "###Casting"
      ]
    },
    {
      "cell_type": "code",
      "metadata": {
        "colab": {
          "base_uri": "https://localhost:8080/"
        },
        "id": "z1FmBSPWVp40",
        "outputId": "a4fb2c88-f715-4b7a-ea03-4ad26d77908f"
      },
      "source": [
        "print(int(4))"
      ],
      "execution_count": 3,
      "outputs": [
        {
          "output_type": "stream",
          "name": "stdout",
          "text": [
            "4\n"
          ]
        }
      ]
    },
    {
      "cell_type": "code",
      "metadata": {
        "colab": {
          "base_uri": "https://localhost:8080/"
        },
        "id": "IPF0AOk_WGyy",
        "outputId": "17e45d04-1a4c-4f5f-c521-426b846204bd"
      },
      "source": [
        "f = 56.789\n",
        "print(type(f))"
      ],
      "execution_count": 4,
      "outputs": [
        {
          "output_type": "stream",
          "name": "stdout",
          "text": [
            "<class 'float'>\n"
          ]
        }
      ]
    },
    {
      "cell_type": "code",
      "metadata": {
        "colab": {
          "base_uri": "https://localhost:8080/"
        },
        "id": "hwsqQvg2WTZR",
        "outputId": "b906de02-78b4-4094-aee6-d336f2d9d1a5"
      },
      "source": [
        "x, y, z = \"one\",\"two\",\"three\"\n",
        "print(x)\n",
        "print(y)\n",
        "print(z)"
      ],
      "execution_count": 5,
      "outputs": [
        {
          "output_type": "stream",
          "name": "stdout",
          "text": [
            "one\n",
            "two\n",
            "three\n"
          ]
        }
      ]
    },
    {
      "cell_type": "code",
      "metadata": {
        "colab": {
          "base_uri": "https://localhost:8080/"
        },
        "id": "mJd0fsIbWkBU",
        "outputId": "788d074a-2ef3-4b4d-c0d1-0cc4fa4afcc3"
      },
      "source": [
        "x = y = z = \"four\" #Multiple variable\n",
        "print(x)\n",
        "print(y)\n",
        "print(z)"
      ],
      "execution_count": 6,
      "outputs": [
        {
          "output_type": "stream",
          "name": "stdout",
          "text": [
            "four\n",
            "four\n",
            "four\n"
          ]
        }
      ]
    },
    {
      "cell_type": "code",
      "metadata": {
        "colab": {
          "base_uri": "https://localhost:8080/"
        },
        "id": "78LqBKGoW3Bz",
        "outputId": "e3aa8d42-dead-4c47-988b-528f47428902"
      },
      "source": [
        "x = \"enjoying\"\n",
        "print(\"Python progamming is\"\" \"+ x)"
      ],
      "execution_count": 9,
      "outputs": [
        {
          "output_type": "stream",
          "name": "stdout",
          "text": [
            "Python progamming is enjoying\n"
          ]
        }
      ]
    },
    {
      "cell_type": "markdown",
      "metadata": {
        "id": "Dgu8wXsAXQxR"
      },
      "source": [
        "###Operations in Python"
      ]
    },
    {
      "cell_type": "code",
      "metadata": {
        "colab": {
          "base_uri": "https://localhost:8080/"
        },
        "id": "eSQMpxhcXXGb",
        "outputId": "38a361d3-1d55-44a3-d95a-4ec548cb899b"
      },
      "source": [
        "k = 10\n",
        "l = 5\n",
        "print(k+l)"
      ],
      "execution_count": 10,
      "outputs": [
        {
          "output_type": "stream",
          "name": "stdout",
          "text": [
            "15\n"
          ]
        }
      ]
    },
    {
      "cell_type": "code",
      "metadata": {
        "colab": {
          "base_uri": "https://localhost:8080/"
        },
        "id": "SKv_btpyXdwg",
        "outputId": "f190a6cf-6079-4ea4-b39d-9e7052caa04c"
      },
      "source": [
        "k+=l #Is the same as k = k+l\n",
        "print(k)"
      ],
      "execution_count": 11,
      "outputs": [
        {
          "output_type": "stream",
          "name": "stdout",
          "text": [
            "15\n"
          ]
        }
      ]
    },
    {
      "cell_type": "code",
      "metadata": {
        "colab": {
          "base_uri": "https://localhost:8080/"
        },
        "id": "nSMVvP93XrA0",
        "outputId": "23dfae57-6b67-46c2-d117-d38f500c799b"
      },
      "source": [
        "k>l and l==l"
      ],
      "execution_count": 12,
      "outputs": [
        {
          "output_type": "execute_result",
          "data": {
            "text/plain": [
              "True"
            ]
          },
          "metadata": {},
          "execution_count": 12
        }
      ]
    },
    {
      "cell_type": "code",
      "metadata": {
        "colab": {
          "base_uri": "https://localhost:8080/"
        },
        "id": "XMqLkVHmXwjq",
        "outputId": "75e68088-3004-4570-a21d-4b148aecfd65"
      },
      "source": [
        "k<l or k==k"
      ],
      "execution_count": 13,
      "outputs": [
        {
          "output_type": "execute_result",
          "data": {
            "text/plain": [
              "True"
            ]
          },
          "metadata": {},
          "execution_count": 13
        }
      ]
    },
    {
      "cell_type": "code",
      "metadata": {
        "colab": {
          "base_uri": "https://localhost:8080/"
        },
        "id": "4eVVgLT3X1Vr",
        "outputId": "040176bb-2e17-4b8e-8429-4cfaae2ca56c"
      },
      "source": [
        "not (k<l or k==k)"
      ],
      "execution_count": 14,
      "outputs": [
        {
          "output_type": "execute_result",
          "data": {
            "text/plain": [
              "False"
            ]
          },
          "metadata": {},
          "execution_count": 14
        }
      ]
    },
    {
      "cell_type": "code",
      "metadata": {
        "colab": {
          "base_uri": "https://localhost:8080/"
        },
        "id": "RZbUym7GX8Ir",
        "outputId": "2531e7db-1685-4dc5-a4e2-13e152074e91"
      },
      "source": [
        "k is l"
      ],
      "execution_count": 15,
      "outputs": [
        {
          "output_type": "execute_result",
          "data": {
            "text/plain": [
              "False"
            ]
          },
          "metadata": {},
          "execution_count": 15
        }
      ]
    },
    {
      "cell_type": "code",
      "metadata": {
        "colab": {
          "base_uri": "https://localhost:8080/"
        },
        "id": "3vPGK5q8X-km",
        "outputId": "30d64f37-caf9-4742-b1a8-e707acff7201"
      },
      "source": [
        "k%=5\n",
        "print(k)"
      ],
      "execution_count": 16,
      "outputs": [
        {
          "output_type": "stream",
          "name": "stdout",
          "text": [
            "0\n"
          ]
        }
      ]
    }
  ]
}