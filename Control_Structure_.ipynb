{
  "nbformat": 4,
  "nbformat_minor": 0,
  "metadata": {
    "colab": {
      "name": "Control Structure .ipynb",
      "provenance": [],
      "collapsed_sections": [],
      "authorship_tag": "ABX9TyP3zrsybTMmGo3YBSd/yyCi",
      "include_colab_link": true
    },
    "kernelspec": {
      "name": "python3",
      "display_name": "Python 3"
    },
    "language_info": {
      "name": "python"
    }
  },
  "cells": [
    {
      "cell_type": "markdown",
      "metadata": {
        "id": "view-in-github",
        "colab_type": "text"
      },
      "source": [
        "<a href=\"https://colab.research.google.com/github/Jim-Kelvin-Geran-202013157/CPEN-21A-ECE-2-3/blob/main/Control_Structure_.ipynb\" target=\"_parent\"><img src=\"https://colab.research.google.com/assets/colab-badge.svg\" alt=\"Open In Colab\"/></a>"
      ]
    },
    {
      "cell_type": "markdown",
      "metadata": {
        "id": "dpl-G7-4Ej6l"
      },
      "source": [
        "##Conditional Statement in Python"
      ]
    },
    {
      "cell_type": "markdown",
      "metadata": {
        "id": "nxRHR1WgOeyr"
      },
      "source": [
        "###If Statement"
      ]
    },
    {
      "cell_type": "code",
      "metadata": {
        "colab": {
          "base_uri": "https://localhost:8080/"
        },
        "id": "xhpnfPs7Og_N",
        "outputId": "32a63b57-c9d8-43e7-f00b-cd5cbb580832"
      },
      "source": [
        "a = 12\n",
        "b = 100\n",
        "if b>a:\n",
        " print(\"b is greater than a\")"
      ],
      "execution_count": 14,
      "outputs": [
        {
          "output_type": "stream",
          "name": "stdout",
          "text": [
            "b is greater than a\n"
          ]
        }
      ]
    },
    {
      "cell_type": "markdown",
      "metadata": {
        "id": "laj_DotjOuW6"
      },
      "source": [
        "###Elif Statements"
      ]
    },
    {
      "cell_type": "code",
      "metadata": {
        "colab": {
          "base_uri": "https://localhost:8080/"
        },
        "id": "2dKtaxZ6OvxH",
        "outputId": "af5cfd78-807e-4285-c317-32a8c40715b1"
      },
      "source": [
        "a = 12\n",
        "b = 12\n",
        "if b>a:\n",
        " print(\"b is greater than a\")\n",
        "elif a==b:\n",
        " print(\"a and b are equal\")"
      ],
      "execution_count": 19,
      "outputs": [
        {
          "output_type": "stream",
          "name": "stdout",
          "text": [
            "a and b are equal\n"
          ]
        }
      ]
    },
    {
      "cell_type": "markdown",
      "metadata": {
        "id": "8bcQALy_PDjC"
      },
      "source": [
        "###Else Statements"
      ]
    },
    {
      "cell_type": "code",
      "metadata": {
        "colab": {
          "base_uri": "https://localhost:8080/"
        },
        "id": "Kp9QKMHBPG1L",
        "outputId": "54fe8507-52b5-429e-a5e7-c9d805632592"
      },
      "source": [
        "a = 200\n",
        "b = 33\n",
        "if b>a:\n",
        " print(\"b is greater than a\")\n",
        "elif a==b:\n",
        " print(\"a and b are equal\")\n",
        "else:\n",
        " print(\"a is greater than b\")"
      ],
      "execution_count": 20,
      "outputs": [
        {
          "output_type": "stream",
          "name": "stdout",
          "text": [
            "a is greater than b\n"
          ]
        }
      ]
    },
    {
      "cell_type": "markdown",
      "metadata": {
        "id": "3D-GvbeRPNT7"
      },
      "source": [
        "###Short Hand If Statement"
      ]
    },
    {
      "cell_type": "code",
      "metadata": {
        "colab": {
          "base_uri": "https://localhost:8080/"
        },
        "id": "M36qI7AbPQIT",
        "outputId": "66378f30-05ee-4d0c-ee06-20cfda46b37f"
      },
      "source": [
        "a=200\n",
        "b=33\n",
        "c=500\n",
        "if a>b and c>a:\n",
        "  print(\"both condition are true\")\n",
        "else:\n",
        "  print(\"atleast one condition is true\")"
      ],
      "execution_count": 21,
      "outputs": [
        {
          "output_type": "stream",
          "name": "stdout",
          "text": [
            "both condition are true\n"
          ]
        }
      ]
    },
    {
      "cell_type": "markdown",
      "metadata": {
        "id": "MeKU2stmPsUP"
      },
      "source": [
        "###Short Hand If... Else Statement"
      ]
    },
    {
      "cell_type": "code",
      "metadata": {
        "colab": {
          "base_uri": "https://localhost:8080/"
        },
        "id": "IM1SH3MQP0Y9",
        "outputId": "a95a6822-a280-4f70-ffca-5eb9ccf84330"
      },
      "source": [
        "print(\"a is greater than b\") if a>b else print(\"b is greater than a\")"
      ],
      "execution_count": 22,
      "outputs": [
        {
          "output_type": "stream",
          "name": "stdout",
          "text": [
            "a is greater than b\n"
          ]
        }
      ]
    },
    {
      "cell_type": "markdown",
      "metadata": {
        "id": "vAGPZ4qTQMKx"
      },
      "source": [
        "###And Logic Condition\n"
      ]
    },
    {
      "cell_type": "code",
      "metadata": {
        "colab": {
          "base_uri": "https://localhost:8080/"
        },
        "id": "xWMo4ZLLQSjD",
        "outputId": "82fb187f-641d-44c8-a335-0be1471a707d"
      },
      "source": [
        "if a>b and c>a:\n",
        "  print(\"both condition are true\")\n",
        "else:\n",
        "  print(\"atleast one condition is true\")"
      ],
      "execution_count": 23,
      "outputs": [
        {
          "output_type": "stream",
          "name": "stdout",
          "text": [
            "both condition are true\n"
          ]
        }
      ]
    },
    {
      "cell_type": "markdown",
      "metadata": {
        "id": "27q29LN4QsJk"
      },
      "source": [
        "###Or Logic Condition"
      ]
    },
    {
      "cell_type": "code",
      "metadata": {
        "colab": {
          "base_uri": "https://localhost:8080/"
        },
        "id": "XtOzdekjQyLf",
        "outputId": "d55edeed-75a5-4fab-bc8b-61debeb56e72"
      },
      "source": [
        "if a<b or c>a:\n",
        "  print(\"atleast one condition is true\")\n",
        "else:\n",
        "  print(\"none of the statement is true\")"
      ],
      "execution_count": 25,
      "outputs": [
        {
          "output_type": "stream",
          "name": "stdout",
          "text": [
            "atleast one condition is true\n"
          ]
        }
      ]
    },
    {
      "cell_type": "markdown",
      "metadata": {
        "id": "_imj0fYQRRow"
      },
      "source": [
        "###Nested If Condition\n"
      ]
    },
    {
      "cell_type": "code",
      "metadata": {
        "colab": {
          "base_uri": "https://localhost:8080/"
        },
        "id": "reToi6v4RVgI",
        "outputId": "b85636f4-3a89-400e-890e-dd4dae86a53e"
      },
      "source": [
        "x = 21\n",
        "if x > 10:\n",
        " print(\"Above ten!\")\n",
        "if x > 20:\n",
        " print(\"and also above 20!\")\n",
        "else:\n",
        " print(\"but not above 20.\")"
      ],
      "execution_count": 27,
      "outputs": [
        {
          "output_type": "stream",
          "name": "stdout",
          "text": [
            "Above ten!\n",
            "and also above 20!\n"
          ]
        }
      ]
    },
    {
      "cell_type": "markdown",
      "metadata": {
        "id": "RelAaoWXE09N"
      },
      "source": [
        "###Example 1"
      ]
    },
    {
      "cell_type": "code",
      "metadata": {
        "colab": {
          "base_uri": "https://localhost:8080/"
        },
        "id": "0lEGWrdpE3CZ",
        "outputId": "9dc46133-a020-47f8-b011-dfbdb9a343a1"
      },
      "source": [
        "age=int(input(\"Enter your age:\"))\n",
        "if age >=18:\n",
        "  print(\"Qualified to vote\")\n",
        "else:\n",
        "  print(\"Not Qualified to vote\")"
      ],
      "execution_count": 2,
      "outputs": [
        {
          "output_type": "stream",
          "name": "stdout",
          "text": [
            "Enter your age:34\n",
            "Qualified to vote\n"
          ]
        }
      ]
    },
    {
      "cell_type": "markdown",
      "metadata": {
        "id": "DwMSHOiuFevN"
      },
      "source": [
        "###Example 2"
      ]
    },
    {
      "cell_type": "code",
      "metadata": {
        "colab": {
          "base_uri": "https://localhost:8080/"
        },
        "id": "PLUkvjbEFgyl",
        "outputId": "f24c3e14-142c-4204-f331-1ff0f19ec82b"
      },
      "source": [
        "#Write a program that determines if the input number is POSITIVE, NEGATIVE, or Zero.#\n",
        "\n",
        "Number=float(input(\"Enter your number:\"))\n",
        "if Number>0:\n",
        "  print(\"Positive\")\n",
        "elif Number==0:\n",
        "  print(\"Zero\")\n",
        "else:\n",
        "  print(\"Negative\")\n"
      ],
      "execution_count": 9,
      "outputs": [
        {
          "output_type": "stream",
          "name": "stdout",
          "text": [
            "Enter your number:-1\n",
            "Negative\n"
          ]
        }
      ]
    },
    {
      "cell_type": "markdown",
      "metadata": {
        "id": "r7A7-pZIGBBe"
      },
      "source": [
        "###Example 3"
      ]
    },
    {
      "cell_type": "code",
      "metadata": {
        "colab": {
          "base_uri": "https://localhost:8080/"
        },
        "id": "xK0cYr5SGD8G",
        "outputId": "edf617fc-1f06-4b36-851c-524aa17161e2"
      },
      "source": [
        "##Write a python program that determines if the grades are#\n",
        "#Grade>= 75 \"Passed\"\n",
        "#Grade == 74 \"Remedial\"\n",
        "#Grade <74 \"Failed\"\n",
        "\n",
        "grade= float(input(\"Enter your grade\"))\n",
        "if grade >=75:\n",
        "  print(\"You passed\")\n",
        "elif grade>=74 and grade<75:\n",
        "  print(\"Remedial\")\n",
        "else:\n",
        "  print(\"You failed\")"
      ],
      "execution_count": 7,
      "outputs": [
        {
          "output_type": "stream",
          "name": "stdout",
          "text": [
            "Enter your grade74.000001\n",
            "Remedial\n"
          ]
        }
      ]
    }
  ]
}