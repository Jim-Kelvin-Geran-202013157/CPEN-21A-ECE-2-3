{
  "nbformat": 4,
  "nbformat_minor": 0,
  "metadata": {
    "colab": {
      "name": "Midterm Exam.ipynb",
      "provenance": [],
      "authorship_tag": "ABX9TyOsM+SBNlgStg/H2M4IEe4E",
      "include_colab_link": true
    },
    "kernelspec": {
      "name": "python3",
      "display_name": "Python 3"
    },
    "language_info": {
      "name": "python"
    }
  },
  "cells": [
    {
      "cell_type": "markdown",
      "metadata": {
        "id": "view-in-github",
        "colab_type": "text"
      },
      "source": [
        "<a href=\"https://colab.research.google.com/github/Jim-Kelvin-Geran-202013157/CPEN-21A-ECE-2-3/blob/main/Midterm_Exam.ipynb\" target=\"_parent\"><img src=\"https://colab.research.google.com/assets/colab-badge.svg\" alt=\"Open In Colab\"/></a>"
      ]
    },
    {
      "cell_type": "markdown",
      "metadata": {
        "id": "nJiCfcLrsGx1"
      },
      "source": [
        "##Midterm Exam"
      ]
    },
    {
      "cell_type": "markdown",
      "metadata": {
        "id": "5mH96enhsVrW"
      },
      "source": [
        "###Problem Statement 1"
      ]
    },
    {
      "cell_type": "code",
      "metadata": {
        "colab": {
          "base_uri": "https://localhost:8080/"
        },
        "id": "qOw51mdjseWk",
        "outputId": "20fca41e-bd6d-4517-86ae-2508b7542332"
      },
      "source": [
        "print(\"PERSONAL INFORMATION:\")\n",
        "a=\"Jim Kelvin Q. Geran\"\n",
        "b=\"202013157\"\n",
        "c=\"20\"\n",
        "d=\"September 26, 2001\"\n",
        "e=\"St. Kasuyan, Batas, Silang, Cavite\"\n",
        "f=\"Bachelor Of Science In Electronics And Communication Engineering\"\n",
        "g=\"1.56\"\n",
        "print(\"Full name:\" + a)\n",
        "print(\"Student number:\" + b)\n",
        "print(\"Age:\" + c)\n",
        "print(\"Birthday:\" + d)\n",
        "print(\"Address\" + e)\n",
        "print(\"Course:\" + f)\n",
        "print(\"Last sem GWA:\" + g)"
      ],
      "execution_count": 12,
      "outputs": [
        {
          "output_type": "stream",
          "name": "stdout",
          "text": [
            "PERSONAL INFORMATION:\n",
            "Full name:Jim Kelvin Q. Geran\n",
            "Student number:202013157\n",
            "Age:20\n",
            "Birthday:September 26, 2001\n",
            "AddressSt. Kasuyan, Batas, Silang, Cavite\n",
            "Course:Bachelor Of Science In Electronics And Communication Engineering\n",
            "Last sem GWA:1.56\n"
          ]
        }
      ]
    },
    {
      "cell_type": "markdown",
      "metadata": {
        "id": "r_qUwHEkvnL_"
      },
      "source": [
        "###Problem Statement 2"
      ]
    },
    {
      "cell_type": "code",
      "metadata": {
        "colab": {
          "base_uri": "https://localhost:8080/"
        },
        "id": "nJr-cBBjvt7I",
        "outputId": "9509785d-1ebe-4b4c-889a-b30ad222ff87"
      },
      "source": [
        "n=4\n",
        "answ=\"Y\"\n",
        "print((2<n) and (n<6))\n",
        "print((2<n) or (n==6))\n",
        "print(not(2<n) or (n==6))\n",
        "print(not(n<6))\n",
        "print((answ==\"Y\") or (answ==\"y\"))\n",
        "print((answ==\"Y\") and (answ==\"y\"))\n",
        "print(not(answ==\"y\"))\n",
        "print(((2<n)and(n==5+1)) or (answ==\"No\"))\n",
        "print(((n==2)and(n==7)) or (answ==\"Y\"))\n",
        "print((n==2) and ((n==7)or(answ==\"Y\")))"
      ],
      "execution_count": 35,
      "outputs": [
        {
          "output_type": "stream",
          "name": "stdout",
          "text": [
            "True\n",
            "True\n",
            "False\n",
            "False\n",
            "True\n",
            "False\n",
            "True\n",
            "False\n",
            "True\n",
            "False\n"
          ]
        }
      ]
    },
    {
      "cell_type": "markdown",
      "metadata": {
        "id": "qO_85kY11dPW"
      },
      "source": [
        "###Problem Statement 3"
      ]
    },
    {
      "cell_type": "code",
      "metadata": {
        "colab": {
          "base_uri": "https://localhost:8080/"
        },
        "id": "zNwt2QDn1lcm",
        "outputId": "a7ed7c87-1100-44e2-ab8f-af2cf0009bbb"
      },
      "source": [
        "x=2\n",
        "y=-3\n",
        "w=7\n",
        "z=-10\n",
        "print(x/y) #a\n",
        "print(w/y/x) #b\n",
        "print(z/y%x) #c\n",
        "print(x%-y*w) #d\n",
        "print(x%y) #e\n",
        "print(z%w-y/x*5+5) #f\n",
        "print(9-x%(2+y)) #g\n",
        "print(z//w) #h\n",
        "print((2+y)**2) #i\n",
        "print(w/x*2) #j"
      ],
      "execution_count": 40,
      "outputs": [
        {
          "output_type": "stream",
          "name": "stdout",
          "text": [
            "-0.6666666666666666\n",
            "-1.1666666666666667\n",
            "1.3333333333333335\n",
            "14\n",
            "-1\n",
            "16.5\n",
            "9\n",
            "-2\n",
            "1\n",
            "7.0\n"
          ]
        }
      ]
    }
  ]
}