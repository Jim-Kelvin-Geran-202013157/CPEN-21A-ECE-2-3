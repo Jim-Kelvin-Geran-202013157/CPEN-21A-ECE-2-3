{
  "nbformat": 4,
  "nbformat_minor": 0,
  "metadata": {
    "colab": {
      "name": "Lab1.ipynb",
      "provenance": [],
      "authorship_tag": "ABX9TyPqbG7NaTFYV+IEqsw52YtJ",
      "include_colab_link": true
    },
    "kernelspec": {
      "name": "python3",
      "display_name": "Python 3"
    },
    "language_info": {
      "name": "python"
    }
  },
  "cells": [
    {
      "cell_type": "markdown",
      "metadata": {
        "id": "view-in-github",
        "colab_type": "text"
      },
      "source": [
        "<a href=\"https://colab.research.google.com/github/Jim-Kelvin-Geran-202013157/CPEN-21A-ECE-2-3/blob/main/Lab1.ipynb\" target=\"_parent\"><img src=\"https://colab.research.google.com/assets/colab-badge.svg\" alt=\"Open In Colab\"/></a>"
      ]
    },
    {
      "cell_type": "markdown",
      "metadata": {
        "id": "FRJEkgLRjhYL"
      },
      "source": [
        "###Laboratory 1"
      ]
    },
    {
      "cell_type": "code",
      "metadata": {
        "colab": {
          "base_uri": "https://localhost:8080/"
        },
        "id": "CdU0cw-MolU_",
        "outputId": "0b05dbf0-85d4-4a31-ed86-d8b98723f228"
      },
      "source": [
        "print(\"Welcome to Python Programming\")"
      ],
      "execution_count": 8,
      "outputs": [
        {
          "output_type": "stream",
          "name": "stdout",
          "text": [
            "Welcome to Python Programming\n"
          ]
        }
      ]
    },
    {
      "cell_type": "code",
      "metadata": {
        "colab": {
          "base_uri": "https://localhost:8080/"
        },
        "id": "2zuUnts9lBhb",
        "outputId": "0a901eb1-15af-4b0b-fa36-fa6fd15f4463"
      },
      "source": [
        "a=\"Jim Kelvin Q. Geran\"\n",
        "b=\"Kasuyan, Batas, Silang, Cavite\"\n",
        "c= \"20 years old\"\n",
        "print(\"Hello, my name is \" +a)\n",
        "print(\"I'm from \" +b)\n",
        "print(\"My age is \" +c)"
      ],
      "execution_count": 11,
      "outputs": [
        {
          "output_type": "stream",
          "name": "stdout",
          "text": [
            "Hello, my name is Jim Kelvin Q. Geran\n",
            "I'm from Kasuyan, Batas, Silang, Cavite\n",
            "My age is 20 years old\n"
          ]
        }
      ]
    }
  ]
}